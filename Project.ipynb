{
 "cells": [
  {
   "cell_type": "code",
   "execution_count": 1,
   "metadata": {},
   "outputs": [],
   "source": [
    "import pandas as pd\n",
    "from textblob import TextBlob\n",
    "import plotly.express as px\n",
    "from jupyter_dash import JupyterDash\n",
    "from dash import dcc, html, Input, Output\n",
    "\n"
   ]
  },
  {
   "cell_type": "code",
   "execution_count": 3,
   "metadata": {},
   "outputs": [],
   "source": [
    "df = pd.read_csv('twitter_validation.csv')\n",
    "\n",
    "def analyze_sentiment(text):\n",
    "    analysis = TextBlob(text)\n",
    "    return analysis.sentiment.polarity"
   ]
  },
  {
   "cell_type": "code",
   "execution_count": 5,
   "metadata": {},
   "outputs": [
    {
     "name": "stderr",
     "output_type": "stream",
     "text": [
      "c:\\Users\\Chetas Parekh\\AppData\\Local\\Programs\\Python\\Python313\\Lib\\site-packages\\dash\\dash.py:579: UserWarning:\n",
      "\n",
      "JupyterDash is deprecated, use Dash instead.\n",
      "See https://dash.plotly.com/dash-in-jupyter for more details.\n",
      "\n"
     ]
    }
   ],
   "source": [
    "df['Sentiment'] = df.iloc[:, 3].apply(analyze_sentiment)  # Assuming the text column is the fourth column\n",
    "\n",
    "app = JupyterDash(__name__)\n",
    "\n",
    "app.layout = html.Div([\n",
    "    dcc.Input(id='tweet-input', type='text', placeholder='Enter a tweet...'),\n",
    "    html.Div(id='sentiment-output'),\n",
    "    dcc.Graph(id='sentiment-graph')\n",
    "])\n",
    "\n"
   ]
  },
  {
   "cell_type": "code",
   "execution_count": 6,
   "metadata": {},
   "outputs": [
    {
     "data": {
      "text/html": [
       "\n",
       "        <iframe\n",
       "            width=\"100%\"\n",
       "            height=\"650\"\n",
       "            src=\"http://127.0.0.1:8050/\"\n",
       "            frameborder=\"0\"\n",
       "            allowfullscreen\n",
       "            \n",
       "        ></iframe>\n",
       "        "
      ],
      "text/plain": [
       "<IPython.lib.display.IFrame at 0x23102b7fe00>"
      ]
     },
     "metadata": {},
     "output_type": "display_data"
    },
    {
     "data": {
      "text/html": [
       "\n",
       "        <iframe\n",
       "            width=\"100%\"\n",
       "            height=\"650\"\n",
       "            src=\"http://127.0.0.1:8050/\"\n",
       "            frameborder=\"0\"\n",
       "            allowfullscreen\n",
       "            \n",
       "        ></iframe>\n",
       "        "
      ],
      "text/plain": [
       "<IPython.lib.display.IFrame at 0x23102955590>"
      ]
     },
     "metadata": {},
     "output_type": "display_data"
    }
   ],
   "source": [
    "@app.callback(\n",
    "    Output('sentiment-output', 'children'),\n",
    "    Input('tweet-input', 'value')\n",
    ")\n",
    "def update_sentiment(tweet):\n",
    "    if tweet:\n",
    "        sentiment_score = analyze_sentiment(tweet)\n",
    "        return f'Sentiment Score: {sentiment_score}'\n",
    "    return 'Please enter a tweet to analyze.'\n",
    "\n",
    "@app.callback(\n",
    "    Output('sentiment-graph', 'figure'),\n",
    "    Input('tweet-input', 'value')\n",
    ")\n",
    "def update_graph(tweet):\n",
    "    fig = px.histogram(df, x='Sentiment', nbins=20, title='Sentiment Distribution')\n",
    "    return fig\n",
    "\n",
    "app.run_server(mode='inline')"
   ]
  }
 ],
 "metadata": {
  "kernelspec": {
   "display_name": "Python 3",
   "language": "python",
   "name": "python3"
  },
  "language_info": {
   "codemirror_mode": {
    "name": "ipython",
    "version": 3
   },
   "file_extension": ".py",
   "mimetype": "text/x-python",
   "name": "python",
   "nbconvert_exporter": "python",
   "pygments_lexer": "ipython3",
   "version": "3.13.1"
  }
 },
 "nbformat": 4,
 "nbformat_minor": 2
}
