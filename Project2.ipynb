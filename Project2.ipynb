{
 "cells": [
  {
   "cell_type": "markdown",
   "metadata": {},
   "source": [
    "# 1. Data Pre-Processing"
   ]
  },
  {
   "cell_type": "code",
   "execution_count": 1,
   "metadata": {},
   "outputs": [],
   "source": [
    "import pandas as pd\n",
    "import nltk\n",
    "from nltk.sentiment.vader import SentimentIntensityAnalyzer"
   ]
  },
  {
   "cell_type": "code",
   "execution_count": 12,
   "metadata": {},
   "outputs": [
    {
     "name": "stderr",
     "output_type": "stream",
     "text": [
      "[nltk_data] Downloading package vader_lexicon to C:\\Users\\Chetas\n",
      "[nltk_data]     Parekh/nltk_data...\n",
      "[nltk_data]   Package vader_lexicon is already up-to-date!\n"
     ]
    },
    {
     "name": "stdout",
     "output_type": "stream",
     "text": [
      "(999, 9)\n"
     ]
    }
   ],
   "source": [
    "import pandas as pd\n",
    "import nltk\n",
    "from nltk.sentiment.vader import SentimentIntensityAnalyzer\n",
    "\n",
    "nltk.download('vader_lexicon')\n",
    "\n",
    "df_validation = pd.read_csv('twitter_validation.csv')\n",
    "df_training = pd.read_csv('twitter_training.csv')\n",
    "\n",
    "df_combined = pd.concat([df_validation, df_training], ignore_index=True)\n",
    "df_combined.dropna(subset=[df_combined.columns[3]], inplace=True)\n",
    "df_combined.iloc[:, 3] = df_combined.iloc[:, 3].astype(str)\n",
    "\n",
    "sid = SentimentIntensityAnalyzer()\n",
    "\n",
    "def analyze_sentiment(text):\n",
    "    sentiment_scores = sid.polarity_scores(text)\n",
    "    return sentiment_scores['compound']\n",
    "\n",
    "df_combined['Sentiment'] = df_combined.iloc[:, 3].apply(analyze_sentiment)\n",
    "df_combined.to_csv('processed_twitter_combined.csv', index=False)\n",
    "\n",
    "print(df_combined.shape)"
   ]
  },
  {
   "cell_type": "markdown",
   "metadata": {},
   "source": [
    "# 2. Dashboard Creation"
   ]
  },
  {
   "cell_type": "code",
   "execution_count": 19,
   "metadata": {},
   "outputs": [
    {
     "name": "stdout",
     "output_type": "stream",
     "text": [
      "Index(['3364', 'Facebook', 'Irrelevant',\n",
      "       'I mentioned on Facebook that I was struggling for motivation to go for a run the other day, which has been translated by Tom’s great auntie as ‘Hayley can’t get out of bed’ and told to his grandma, who now thinks I’m a lazy, terrible person 🤣',\n",
      "       '2401', 'Borderlands', 'Positive',\n",
      "       'im getting on borderlands and i will murder you all ,', 'Sentiment'],\n",
      "      dtype='object')\n"
     ]
    },
    {
     "name": "stderr",
     "output_type": "stream",
     "text": [
      "c:\\Users\\Chetas Parekh\\AppData\\Local\\Programs\\Python\\Python313\\Lib\\site-packages\\dash\\dash.py:579: UserWarning:\n",
      "\n",
      "JupyterDash is deprecated, use Dash instead.\n",
      "See https://dash.plotly.com/dash-in-jupyter for more details.\n",
      "\n"
     ]
    }
   ],
   "source": [
    "# Import necessary libraries\n",
    "import pandas as pd\n",
    "import plotly.express as px\n",
    "from jupyter_dash import JupyterDash\n",
    "from dash import dcc, html, Input, Output\n",
    "\n",
    "df = pd.read_csv('processed_twitter_combined.csv')\n",
    "\n",
    "print(df.columns)\n",
    "\n",
    "app = JupyterDash(__name__)\n",
    "\n",
    "app.layout = html.Div([\n",
    "    dcc.Tabs([\n",
    "        dcc.Tab(label='Dashboard 1', children=[\n",
    "            html.Div([\n",
    "                dcc.Input(id='tweet-input', type='text', placeholder='Enter a tweet...'),\n",
    "                html.Div(id='sentiment-output'),\n",
    "                dcc.Graph(id='sentiment-graph'),\n",
    "                dcc.Graph(id='scatter-graph'),\n",
    "                dcc.Graph(id='pie-chart')\n",
    "            ])\n",
    "        ]),\n",
    "        dcc.Tab(label='Dashboard 2', children=[\n",
    "            html.Div([\n",
    "                dcc.Graph(id='bar-chart'),\n",
    "                dcc.Graph(id='line-chart'),\n",
    "                dcc.Graph(id='box-plot')\n",
    "            ])\n",
    "        ]),\n",
    "        dcc.Tab(label='Dashboard 3', children=[\n",
    "            html.Div([\n",
    "                dcc.Graph(id='violin-plot'),\n",
    "                dcc.Graph(id='density-heatmap'),\n",
    "                dcc.Graph(id='area-chart')\n",
    "            ])\n",
    "        ])\n",
    "    ])\n",
    "])\n",
    "\n",
    "@app.callback(\n",
    "    Output('sentiment-output', 'children'),\n",
    "    Input('tweet-input', 'value')\n",
    ")\n",
    "def update_sentiment(tweet):\n",
    "    if tweet:\n",
    "        sentiment_score = analyze_sentiment(tweet)\n",
    "        return f'Sentiment Score: {sentiment_score}'\n",
    "    return 'Please enter a tweet to analyze.'\n",
    "\n",
    "@app.callback(\n",
    "    Output('sentiment-graph', 'figure'),\n",
    "    Output('scatter-graph', 'figure'),\n",
    "    Output('pie-chart', 'figure'),\n",
    "    Output('bar-chart', 'figure'),\n",
    "    Output('line-chart', 'figure'),\n",
    "    Output('box-plot', 'figure'),\n",
    "    Output('violin-plot', 'figure'),\n",
    "    Output('density-heatmap', 'figure'),\n",
    "    Output('area-chart', 'figure'),\n",
    "    Input('tweet-input', 'value')\n",
    ")\n",
    "def update_graphs(tweet):\n",
    "    sentiment_hist = px.histogram(df, x='Sentiment', nbins=20, title='Sentiment Distribution')\n",
    "\n",
    "    scatter_plot = px.scatter(df, x='Sentiment', y=df.columns[0], title='Sentiment vs ID')\n",
    "\n",
    "    sentiment_counts = df['Sentiment'].value_counts().reset_index()\n",
    "    sentiment_counts.columns = ['Sentiment', 'Count']\n",
    "    pie_chart = px.pie(sentiment_counts, values='Count', names='Sentiment', title='Sentiment Distribution')\n",
    "\n",
    "    bar_chart = px.bar(df, x='Sentiment', y=df.columns[0], title='Bar Chart of Sentiment vs ID')\n",
    "\n",
    "    line_chart = px.line(df, x=df.columns[0], y='Sentiment', title='Line Chart of Sentiment over IDs')\n",
    "\n",
    "    box_plot = px.box(df, x='Sentiment', title='Box Plot of Sentiment')\n",
    "\n",
    "    violin_plot = px.violin(df, y='Sentiment', title='Violin Plot of Sentiment')\n",
    "\n",
    "    density_heatmap = px.density_heatmap(df, x='Sentiment', y=df.columns[0], title='Density Heatmap of Sentiment vs ID')\n",
    "\n",
    "    area_chart = px.area(df, x=df.columns[0], y='Sentiment', title='Area Chart of Sentiment over IDs')\n",
    "\n",
    "    return sentiment_hist, scatter_plot, pie_chart, bar_chart, line_chart, box_plot, violin_plot, density_heatmap, area_chart"
   ]
  },
  {
   "cell_type": "markdown",
   "metadata": {},
   "source": [
    "# 3. Run on the Server"
   ]
  },
  {
   "cell_type": "code",
   "execution_count": 20,
   "metadata": {},
   "outputs": [
    {
     "data": {
      "text/html": [
       "\n",
       "        <iframe\n",
       "            width=\"100%\"\n",
       "            height=\"650\"\n",
       "            src=\"http://127.0.0.1:8064/\"\n",
       "            frameborder=\"0\"\n",
       "            allowfullscreen\n",
       "            \n",
       "        ></iframe>\n",
       "        "
      ],
      "text/plain": [
       "<IPython.lib.display.IFrame at 0x21f106468b0>"
      ]
     },
     "metadata": {},
     "output_type": "display_data"
    },
    {
     "data": {
      "text/html": [
       "\n",
       "        <iframe\n",
       "            width=\"100%\"\n",
       "            height=\"650\"\n",
       "            src=\"http://127.0.0.1:8064/\"\n",
       "            frameborder=\"0\"\n",
       "            allowfullscreen\n",
       "            \n",
       "        ></iframe>\n",
       "        "
      ],
      "text/plain": [
       "<IPython.lib.display.IFrame at 0x21f0ca6d370>"
      ]
     },
     "metadata": {},
     "output_type": "display_data"
    }
   ],
   "source": [
    "app.run_server(mode='inline', port=8064)"
   ]
  },
  {
   "cell_type": "code",
   "execution_count": 13,
   "metadata": {},
   "outputs": [
    {
     "name": "stderr",
     "output_type": "stream",
     "text": [
      "c:\\Users\\Chetas Parekh\\AppData\\Local\\Programs\\Python\\Python313\\Lib\\site-packages\\dash\\dash.py:579: UserWarning:\n",
      "\n",
      "JupyterDash is deprecated, use Dash instead.\n",
      "See https://dash.plotly.com/dash-in-jupyter for more details.\n",
      "\n"
     ]
    }
   ],
   "source": [
    "import pandas as pd\n",
    "import plotly.express as px\n",
    "from jupyter_dash import JupyterDash\n",
    "from dash import dcc, html, Input, Output\n",
    "\n",
    "df = pd.read_csv('processed_twitter_combined.csv')\n",
    "\n",
    "app = JupyterDash(__name__)\n",
    "\n",
    "app.layout = html.Div([\n",
    "    dcc.Input(id='tweet-input', type='text', placeholder='Enter a tweet...'),\n",
    "    html.Div(id='sentiment-output'),\n",
    "    dcc.Graph(id='sentiment-graph')\n",
    "])\n",
    "\n",
    "@app.callback(\n",
    "    Output('sentiment-output', 'children'),\n",
    "    Input('tweet-input', 'value')\n",
    ")\n",
    "def update_sentiment(tweet):\n",
    "    if tweet:\n",
    "        sentiment_score = analyze_sentiment(tweet)\n",
    "        return f'Sentiment Score: {sentiment_score}'\n",
    "    return 'Please enter a tweet to analyze.'\n",
    "\n",
    "@app.callback(\n",
    "    Output('sentiment-graph', 'figure'),\n",
    "    Input('tweet-input', 'value')\n",
    ")\n",
    "def update_graph(tweet):\n",
    "    fig = px.histogram(df, x='Sentiment', nbins=20, title='Sentiment Distribution')\n",
    "    return fig"
   ]
  },
  {
   "cell_type": "code",
   "execution_count": 15,
   "metadata": {},
   "outputs": [
    {
     "data": {
      "text/html": [
       "\n",
       "        <iframe\n",
       "            width=\"100%\"\n",
       "            height=\"650\"\n",
       "            src=\"http://127.0.0.1:8061/\"\n",
       "            frameborder=\"0\"\n",
       "            allowfullscreen\n",
       "            \n",
       "        ></iframe>\n",
       "        "
      ],
      "text/plain": [
       "<IPython.lib.display.IFrame at 0x21f0cb27390>"
      ]
     },
     "metadata": {},
     "output_type": "display_data"
    },
    {
     "data": {
      "text/html": [
       "\n",
       "        <iframe\n",
       "            width=\"100%\"\n",
       "            height=\"650\"\n",
       "            src=\"http://127.0.0.1:8061/\"\n",
       "            frameborder=\"0\"\n",
       "            allowfullscreen\n",
       "            \n",
       "        ></iframe>\n",
       "        "
      ],
      "text/plain": [
       "<IPython.lib.display.IFrame at 0x21f0b26e3f0>"
      ]
     },
     "metadata": {},
     "output_type": "display_data"
    }
   ],
   "source": [
    "app.run_server(mode='inline', port=8061)"
   ]
  },
  {
   "cell_type": "code",
   "execution_count": 10,
   "metadata": {},
   "outputs": [
    {
     "name": "stdout",
     "output_type": "stream",
     "text": [
      "(75680, 8)\n"
     ]
    }
   ],
   "source": [
    "import pandas as pd\n",
    "\n",
    "df_validation = pd.read_csv('twitter_validation.csv')\n",
    "df_training = pd.read_csv('twitter_training.csv')\n",
    "\n",
    "\n",
    "df_combined = pd.concat([df_validation, df_training], ignore_index=True)\n",
    "\n",
    "print(df_combined.shape)"
   ]
  },
  {
   "cell_type": "code",
   "execution_count": 7,
   "metadata": {},
   "outputs": [
    {
     "name": "stderr",
     "output_type": "stream",
     "text": [
      "c:\\Users\\Chetas Parekh\\AppData\\Local\\Programs\\Python\\Python313\\Lib\\site-packages\\dash\\dash.py:579: UserWarning:\n",
      "\n",
      "JupyterDash is deprecated, use Dash instead.\n",
      "See https://dash.plotly.com/dash-in-jupyter for more details.\n",
      "\n"
     ]
    }
   ],
   "source": [
    "\n",
    "import pandas as pd\n",
    "import plotly.express as px\n",
    "from jupyter_dash import JupyterDash\n",
    "from dash import dcc, html, Input, Output\n",
    "\n",
    "df = pd.read_csv('processed_twitter_validation.csv')\n",
    "\n",
    "app = JupyterDash(__name__)\n",
    "\n",
    "app.layout = html.Div([\n",
    "    dcc.Input(id='tweet-input', type='text', placeholder='Enter a tweet...'),\n",
    "    html.Div(id='sentiment-output'),\n",
    "    dcc.Graph(id='sentiment-graph')\n",
    "])\n",
    "\n",
    "@app.callback(\n",
    "    Output('sentiment-output', 'children'),\n",
    "    Input('tweet-input', 'value')\n",
    ")\n",
    "def update_sentiment(tweet):\n",
    "    if tweet:\n",
    "        sentiment_score = analyze_sentiment(tweet)\n",
    "        return f'Sentiment Score: {sentiment_score}'\n",
    "    return 'Please enter a tweet to analyze.'\n",
    "\n",
    "@app.callback(\n",
    "    Output('sentiment-graph', 'figure'),\n",
    "    Input('tweet-input', 'value')\n",
    ")\n",
    "def update_graph(tweet):\n",
    "    fig = px.histogram(df, x='Sentiment', nbins=20, title='Sentiment Distribution')\n",
    "    return fig\n",
    "\n"
   ]
  },
  {
   "cell_type": "code",
   "execution_count": 9,
   "metadata": {},
   "outputs": [
    {
     "data": {
      "text/html": [
       "\n",
       "        <iframe\n",
       "            width=\"100%\"\n",
       "            height=\"650\"\n",
       "            src=\"http://127.0.0.1:8060/\"\n",
       "            frameborder=\"0\"\n",
       "            allowfullscreen\n",
       "            \n",
       "        ></iframe>\n",
       "        "
      ],
      "text/plain": [
       "<IPython.lib.display.IFrame at 0x21f0aac74d0>"
      ]
     },
     "metadata": {},
     "output_type": "display_data"
    },
    {
     "data": {
      "text/html": [
       "\n",
       "        <iframe\n",
       "            width=\"100%\"\n",
       "            height=\"650\"\n",
       "            src=\"http://127.0.0.1:8060/\"\n",
       "            frameborder=\"0\"\n",
       "            allowfullscreen\n",
       "            \n",
       "        ></iframe>\n",
       "        "
      ],
      "text/plain": [
       "<IPython.lib.display.IFrame at 0x21f0ac01a90>"
      ]
     },
     "metadata": {},
     "output_type": "display_data"
    }
   ],
   "source": [
    "app.run_server(mode='inline', port=8060)"
   ]
  }
 ],
 "metadata": {
  "kernelspec": {
   "display_name": "Python 3",
   "language": "python",
   "name": "python3"
  },
  "language_info": {
   "codemirror_mode": {
    "name": "ipython",
    "version": 3
   },
   "file_extension": ".py",
   "mimetype": "text/x-python",
   "name": "python",
   "nbconvert_exporter": "python",
   "pygments_lexer": "ipython3",
   "version": "3.13.1"
  }
 },
 "nbformat": 4,
 "nbformat_minor": 2
}
